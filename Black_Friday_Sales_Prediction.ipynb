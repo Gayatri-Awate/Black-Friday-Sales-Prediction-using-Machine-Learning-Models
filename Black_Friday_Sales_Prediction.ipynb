{
  "nbformat": 4,
  "nbformat_minor": 0,
  "metadata": {
    "colab": {
      "name": "DS mini project.ipynb",
      "provenance": [],
      "collapsed_sections": []
    },
    "kernelspec": {
      "name": "python3",
      "display_name": "Python 3"
    },
    "language_info": {
      "name": "python"
    }
  },
  "cells": [
    {
      "cell_type": "code",
      "metadata": {
        "id": "0hN67ubdjC17"
      },
      "source": [
        "pip install plotly"
      ],
      "execution_count": null,
      "outputs": []
    },
    {
      "cell_type": "code",
      "metadata": {
        "id": "94HPPIE9jJNv"
      },
      "source": [
        "import pandas as pd\n",
        "import numpy as np\n",
        "import seaborn as sns\n",
        "import matplotlib.pyplot as plt\n",
        "import plotly.express as px\n",
        "from plotly.offline import init_notebook_mode, iplot\n",
        "import plotly.graph_objects as go"
      ],
      "execution_count": null,
      "outputs": []
    },
    {
      "cell_type": "code",
      "metadata": {
        "id": "uPHqIzHkjJsa"
      },
      "source": [
        "train = pd.read_csv(\"train.csv\")\n",
        "test = pd.read_csv(\"test.csv\")"
      ],
      "execution_count": null,
      "outputs": []
    },
    {
      "cell_type": "code",
      "metadata": {
        "id": "AoqiheBDjJu-"
      },
      "source": [
        "train.shape,test.shape"
      ],
      "execution_count": null,
      "outputs": []
    },
    {
      "cell_type": "code",
      "metadata": {
        "id": "pIKS95WpjJxm"
      },
      "source": [
        "User_id,Product_ID, TARGET_COL = 'User_ID','Product_ID','Purchase'\n",
        "features = [c for c in train.columns if c not in [User_id,Product_ID, TARGET_COL]]\n",
        "\n",
        "cat_cols = ['Gender','Age','City_Category','Stay_In_Current_City_Years']\n",
        "\n",
        "num_cols = [c for c in features if c not in cat_cols]"
      ],
      "execution_count": null,
      "outputs": []
    },
    {
      "cell_type": "code",
      "metadata": {
        "id": "eL2vROfBjJ0O"
      },
      "source": [
        "train.info()"
      ],
      "execution_count": null,
      "outputs": []
    },
    {
      "cell_type": "code",
      "metadata": {
        "id": "uOzlPmtcjJ2w"
      },
      "source": [
        "test.info()"
      ],
      "execution_count": null,
      "outputs": []
    },
    {
      "cell_type": "code",
      "metadata": {
        "id": "wt8bsSWRjJ5E"
      },
      "source": [
        "\"Gender\"].value_counts().plot.pie(title=\"Gender\", explode=(0.1, 0), labels=[\"Male\", \"Female\"], autopct=\"%1.1f%%\", shadow=True)"
      ],
      "execution_count": null,
      "outputs": []
    },
    {
      "cell_type": "code",
      "metadata": {
        "id": "aY4CnUygjVs-"
      },
      "source": [
        "\n",
        "t1_box = go.Box(\n",
        "                name = 'Product_Category_1',\n",
        "                y = train.Product_Category_1,\n",
        "                marker = dict(color = 'rgba(160,160,50,0.7)')\n",
        ")\n",
        "\n",
        "t2_box = go.Box(\n",
        "                name = 'Product_Category_2',\n",
        "                y = train.Product_Category_2,\n",
        "                marker = dict(color = 'rgba(50,160,150,0.7)')\n",
        ")\n",
        "\n",
        "t3_box = go.Box(\n",
        "                name = 'Product_Category_3',\n",
        "                y = train.Product_Category_3,\n",
        "                marker = dict(color = 'rgba(160,60,150,0.7)')\n",
        ")\n",
        "\n",
        "fig_box = [t1_box, t2_box, t3_box]\n",
        "\n",
        "iplot(fig_box)"
      ],
      "execution_count": null,
      "outputs": []
    },
    {
      "cell_type": "code",
      "metadata": {
        "id": "i_D7PNgXjVvT"
      },
      "source": [
        "sns.countplot(train[\"Age\"], hue=train[\"Gender\"]).set_title(\"Age&Gender\")\n",
        "sns.despine()"
      ],
      "execution_count": null,
      "outputs": []
    },
    {
      "cell_type": "code",
      "metadata": {
        "id": "mUcT38-kjVyM"
      },
      "source": [
        "train.groupby([\"Occupation\"]).mean()[[\"Product_Category_1\", \"Product_Category_2\", \"Product_Category_3\"]].plot.line(title=\"Gender&Product\")\n",
        "sns.despine()"
      ],
      "execution_count": null,
      "outputs": []
    },
    {
      "cell_type": "code",
      "metadata": {
        "id": "KTXqHiIYjV0s"
      },
      "source": [
        "#  Distribution of the target variable: Purchase\n",
        "sns.distplot(train.Purchase, bins = 25)"
      ],
      "execution_count": null,
      "outputs": []
    },
    {
      "cell_type": "code",
      "metadata": {
        "id": "z-GTiAAfjV4c"
      },
      "source": [
        "plt.figure(figsize=(16,5))\n",
        "print(\"Skew: {}\".format(train['Purchase'].skew()))\n",
        "print(\"Kurtosis: {}\".format(train['Purchase'].kurtosis()))\n",
        "ax = sns.kdeplot(train['Purchase'],shade=True,color='g')\n",
        "plt.xticks([i for i in range(0,1200,50)])\n",
        "plt.show()"
      ],
      "execution_count": null,
      "outputs": []
    },
    {
      "cell_type": "code",
      "metadata": {
        "id": "zy1AXFcrjV66"
      },
      "source": [
        "numeric_features = train.select_dtypes(include=[np.number])\n",
        "numeric_features.dtypes"
      ],
      "execution_count": null,
      "outputs": []
    },
    {
      "cell_type": "code",
      "metadata": {
        "id": "PYZ49vw8jV9s"
      },
      "source": [
        "fig = px.histogram(train, x=\"Product_Category_1\", color=\"Age\", title='Histogram')\n",
        "fig.show()"
      ],
      "execution_count": null,
      "outputs": []
    },
    {
      "cell_type": "code",
      "metadata": {
        "id": "_J241z-ojWBG"
      },
      "source": [
        "fig = px.density_heatmap(train, x=\"Purchase\", y=\"Product_Category_1\", marginal_x=\"histogram\", marginal_y=\"histogram\", title='Histogram')\n",
        "fig.show()"
      ],
      "execution_count": null,
      "outputs": []
    },
    {
      "cell_type": "code",
      "metadata": {
        "id": "qMTYtpULjJ7i"
      },
      "source": [
        "#Distribution of the variable Occupation\n",
        "sns.countplot(train.Occupation)"
      ],
      "execution_count": null,
      "outputs": []
    },
    {
      "cell_type": "code",
      "metadata": {
        "id": "eYPqQL1MjJ-Q"
      },
      "source": [
        "# Distribution of the variable Marital_Status\n",
        "sns.countplot(train.Marital_Status)"
      ],
      "execution_count": null,
      "outputs": []
    },
    {
      "cell_type": "code",
      "metadata": {
        "id": "Fb4HC4HRkxBS"
      },
      "source": [
        "#Distribution of the variable Product_Category_1\n",
        "sns.countplot(train.Product_Category_1)"
      ],
      "execution_count": null,
      "outputs": []
    },
    {
      "cell_type": "code",
      "metadata": {
        "id": "YAC_cnQdkxDv"
      },
      "source": [
        "sns.countplot(train.Product_Category_2)"
      ],
      "execution_count": null,
      "outputs": []
    },
    {
      "cell_type": "code",
      "metadata": {
        "id": "eHO0r4xnkxGU"
      },
      "source": [
        "sns.countplot(train.Product_Category_3)"
      ],
      "execution_count": null,
      "outputs": []
    },
    {
      "cell_type": "code",
      "metadata": {
        "id": "XG-DkbqgkxI6"
      },
      "source": [
        "fig = px.scatter_matrix(train,dimensions=[\"Product_Category_1\", \"Product_Category_2\", \"Product_Category_3\"],\n",
        "    color=\"Purchase\")\n",
        "fig.show()"
      ],
      "execution_count": null,
      "outputs": []
    },
    {
      "cell_type": "code",
      "metadata": {
        "id": "sCiGkNPHkxLi"
      },
      "source": [
        "corr = numeric_features.corr()\n",
        "#correlation matrix\n",
        "f, ax = plt.subplots(figsize=(15, 6))\n",
        "sns.heatmap(corr, vmax=.8,annot_kws={'size': 20}, annot=True);"
      ],
      "execution_count": null,
      "outputs": []
    },
    {
      "cell_type": "code",
      "metadata": {
        "id": "hO0L8nRnkxOB"
      },
      "source": [
        "from sklearn.ensemble import RandomForestRegressor\n",
        "from sklearn import preprocessing\n",
        "from sklearn.model_selection import GridSearchCV\n",
        "from sklearn.model_selection import cross_val_score\n",
        "le = preprocessing.LabelEncoder()\n",
        "cat_col = train.select_dtypes(include=\"object\").columns.tolist()\n",
        "for i in cat_col:\n",
        "    train.loc[:, i] = le.fit_transform(train.loc[:, i])\n",
        "    \n",
        "fig, ax = plt.subplots(figsize=(15, 12))\n",
        "sns.heatmap(train.drop(\"User_ID\", axis=1).corr(), annot=True, cmap=\"YlGnBu\").set_title(\"Correlation between features\")"
      ],
      "execution_count": null,
      "outputs": []
    },
    {
      "cell_type": "code",
      "metadata": {
        "id": "4avsy4sNkxQp"
      },
      "source": [
        "cat_features = train.select_dtypes(include=[np.object])\n",
        "cat_features.dtypes"
      ],
      "execution_count": null,
      "outputs": []
    },
    {
      "cell_type": "code",
      "metadata": {
        "id": "Bc94pZx_kxTG"
      },
      "source": [
        "#Distribution of the variable Gender\n",
        "sns.countplot(train.Gender)"
      ],
      "execution_count": null,
      "outputs": []
    },
    {
      "cell_type": "code",
      "metadata": {
        "id": "gYoY3am9kxV1"
      },
      "source": [
        "# Distribution of the variable Age\n",
        "sns.countplot(train.Age)"
      ],
      "execution_count": null,
      "outputs": []
    },
    {
      "cell_type": "code",
      "metadata": {
        "id": "IhArENDzkxZM"
      },
      "source": [
        "#Distribution of the variable City_Category\n",
        "sns.countplot(train.City_Category)"
      ],
      "execution_count": null,
      "outputs": []
    },
    {
      "cell_type": "code",
      "metadata": {
        "id": "sTx20ad5jKBv"
      },
      "source": [
        "##Distribution of the variable Stay_In_Current_City_Years\n",
        "sns.countplot(train.Stay_In_Current_City_Years)"
      ],
      "execution_count": null,
      "outputs": []
    },
    {
      "cell_type": "code",
      "metadata": {
        "id": "nOL-psbelKEx"
      },
      "source": [
        "#Occupation and Purchase analysis\n",
        "Occupation_pivot = train.pivot_table(index='Occupation', values=\"Purchase\", aggfunc=np.mean)\n",
        "Occupation_pivot.plot(kind='bar', color='blue',figsize=(10,5))\n",
        "plt.xlabel(\"Occupation\")\n",
        "plt.ylabel(\"Purchase\")\n",
        "plt.title(\"Occupation and Purchase Analysis\")"
      ],
      "execution_count": null,
      "outputs": []
    },
    {
      "cell_type": "code",
      "metadata": {
        "id": "f4khFxMDlKHi"
      },
      "source": [
        "## Marital_Statusand Purchase analysis\n",
        "martial_pivot = train.pivot_table(index='Marital_Status', values=\"Purchase\", aggfunc=np.mean)\n",
        "martial_pivot.plot(kind='bar', color='blue',figsize=(10,5))\n",
        "plt.xlabel(\"Maretial Status\")\n",
        "plt.ylabel(\"Purchase\")\n",
        "plt.title(\"Maretial and Purchase Analysis\")"
      ],
      "execution_count": null,
      "outputs": []
    },
    {
      "cell_type": "code",
      "metadata": {
        "id": "BiZ-GIRclKKa"
      },
      "source": [
        "## Product_category_1and Purchase analysis\n",
        "Product_category_1_pivot = train.pivot_table(index='Product_Category_1', values=\"Purchase\", aggfunc=np.mean)\n",
        "Product_category_1_pivot.plot(kind='bar', color='blue',figsize=(10,5))\n",
        "plt.xlabel(\"Product_Category_1\")\n",
        "plt.ylabel(\"Purchase\")\n",
        "plt.title(\"Product_Category_1 and Purchase Analysis\")"
      ],
      "execution_count": null,
      "outputs": []
    },
    {
      "cell_type": "code",
      "metadata": {
        "id": "LvVihrgrlKM_"
      },
      "source": [
        "## Gender and Purchase analysis\n",
        "gender_pivot = train.pivot_table(index='Gender', values=\"Purchase\", aggfunc=np.mean)\n",
        "gender_pivot.plot(kind='bar', color='blue',figsize=(10,5))\n",
        "plt.xlabel(\"Gender\")\n",
        "plt.ylabel(\"Purchase\")\n",
        "plt.title(\"Gender and Purchase Analysis\")"
      ],
      "execution_count": null,
      "outputs": []
    },
    {
      "cell_type": "code",
      "metadata": {
        "id": "UXEZ-1YalKP6"
      },
      "source": [
        "##  Age and Purchase analysis\n",
        "age_pivot = train.pivot_table(index='Age', values=\"Purchase\", aggfunc=np.mean)\n",
        "age_pivot.plot(kind='bar', color='blue',figsize=(10,5))\n",
        "plt.xlabel(\"Gender\")\n",
        "plt.ylabel(\"Purchase\")\n",
        "plt.title(\"Gender and Purchase Analysis\")"
      ],
      "execution_count": null,
      "outputs": []
    },
    {
      "cell_type": "code",
      "metadata": {
        "id": "NGm_J_fOlKSf"
      },
      "source": [
        "## City_Category and Purchase analysis\n",
        "City_Category_pivot = train.pivot_table(index='City_Category', values=\"Purchase\", aggfunc=np.mean)\n",
        "City_Category_pivot.plot(kind='bar', color='blue',figsize=(10,5))\n",
        "plt.xlabel(\"City_Category\")\n",
        "plt.ylabel(\"Purchase\")\n",
        "plt.title(\"Gender and Purchase Analysis\")"
      ],
      "execution_count": null,
      "outputs": []
    },
    {
      "cell_type": "code",
      "metadata": {
        "id": "P3MJ9usZlKVd"
      },
      "source": [
        ""
      ],
      "execution_count": null,
      "outputs": []
    },
    {
      "cell_type": "code",
      "metadata": {
        "id": "9iVs-x-BlKYT"
      },
      "source": [
        ""
      ],
      "execution_count": null,
      "outputs": []
    },
    {
      "cell_type": "code",
      "metadata": {
        "id": "OLO7VqfBlKba"
      },
      "source": [
        "# Join Train and Test Dataset\n",
        "train['source']='train'\n",
        "test['source']='test'\n",
        "data = pd.concat([train,test], ignore_index = True, sort = False)\n",
        "print(train.shape, test.shape, data.shape)"
      ],
      "execution_count": null,
      "outputs": []
    },
    {
      "cell_type": "code",
      "metadata": {
        "id": "5R4MN2TAlKd7"
      },
      "source": [
        "data['Product_Category_2'] = data['Product_Category_2'].fillna(data['Product_Category_2'].median())\n",
        "data['Product_Category_3'] = data['Product_Category_3'].fillna(data['Product_Category_3'].median())"
      ],
      "execution_count": null,
      "outputs": []
    },
    {
      "cell_type": "code",
      "metadata": {
        "id": "jOrPb9pjlKhT"
      },
      "source": [
        "data.isnull().sum()/data.shape[0]*100"
      ],
      "execution_count": null,
      "outputs": []
    },
    {
      "cell_type": "code",
      "metadata": {
        "id": "mA7fQunflfOK"
      },
      "source": [
        "cat_features = data.select_dtypes(include=[np.object])\n",
        "cat_features.head()"
      ],
      "execution_count": null,
      "outputs": []
    },
    {
      "cell_type": "code",
      "metadata": {
        "id": "ZoYKyjTelfQ0"
      },
      "source": [
        "#Converting Gender to binary\n",
        "#Turn gender binary\n",
        "data['Gender'] = data['Gender'].replace((\"M\", \"F\"),(0,1))"
      ],
      "execution_count": null,
      "outputs": []
    },
    {
      "cell_type": "code",
      "metadata": {
        "id": "BwpdrxuslfUJ"
      },
      "source": [
        "#city_category\n",
        "data['City_Category'] = data['City_Category'].replace((\"A\", \"B\", \"C\"),(0,1,2))"
      ],
      "execution_count": null,
      "outputs": []
    },
    {
      "cell_type": "code",
      "metadata": {
        "id": "lFDP3A9LlfWL"
      },
      "source": [
        "#Stay_In_Current_City_Years\n",
        "data['Stay_In_Current_City_Years']= data['Stay_In_Current_City_Years'].replace((\"0\", \"1\", \"2\",\"3\",\"4+\"),\n",
        "                                                (0,1,2,3,4))"
      ],
      "execution_count": null,
      "outputs": []
    },
    {
      "cell_type": "code",
      "metadata": {
        "id": "LP_WDXe_lfYw"
      },
      "source": [
        "data['Age'].value_counts()"
      ],
      "execution_count": null,
      "outputs": []
    },
    {
      "cell_type": "code",
      "metadata": {
        "id": "dnyYnOHclfbR"
      },
      "source": [
        "#Stay_In_Current_City_Years\n",
        "data['Age']= data['Age'].replace((\"26-35\", \"36-45\", \"18-25\",\"46-50\",\"51-55\",\"55+\",\"0-17\"),\n",
        "                                                (2,3,1,4,5,6,0))"
      ],
      "execution_count": null,
      "outputs": []
    },
    {
      "cell_type": "code",
      "metadata": {
        "id": "8o5i7F_0lfeF"
      },
      "source": [
        "data = data.drop(['User_ID', 'Product_ID'], axis = 1)"
      ],
      "execution_count": null,
      "outputs": []
    },
    {
      "cell_type": "code",
      "metadata": {
        "id": "UhpUbi3vlfg7"
      },
      "source": [
        "#Divide into test and train:\n",
        "train = data.loc[data['source']=='train']\n",
        "test = data.loc[data['source']=='test']\n",
        "#Drop unnecessary columns:\n",
        "test.drop(['source'],axis=1,inplace=True)\n",
        "train.drop(['source'],axis=1,inplace=True)"
      ],
      "execution_count": null,
      "outputs": []
    },
    {
      "cell_type": "code",
      "metadata": {
        "id": "kZmIN9srlfkW"
      },
      "source": [
        "train_df = train.copy()\n",
        "test_df = test.copy()"
      ],
      "execution_count": null,
      "outputs": []
    },
    {
      "cell_type": "code",
      "metadata": {
        "id": "Bi9DaISPl1ms"
      },
      "source": [
        "test_df =test_df.drop(['Purchase'], axis = 1)"
      ],
      "execution_count": null,
      "outputs": []
    },
    {
      "cell_type": "code",
      "metadata": {
        "id": "9wxaX-8ol1pP"
      },
      "source": [
        "train_df.info()"
      ],
      "execution_count": null,
      "outputs": []
    },
    {
      "cell_type": "code",
      "metadata": {
        "id": "lrybx0Nkl1sl"
      },
      "source": [
        "test_df.info()"
      ],
      "execution_count": null,
      "outputs": []
    },
    {
      "cell_type": "code",
      "metadata": {
        "id": "gfb9sRvIl1ub"
      },
      "source": [
        "# lets split the target data from the train data\n",
        "\n",
        "y = train_df['Purchase']\n",
        "X = train_df.drop(['Purchase'], axis = 1)\n",
        "x_test = test_df\n",
        "\n",
        "# lets print the shapes of these newly formed data sets\n",
        "print(\"Shape of the x :\", X.shape)\n",
        "print(\"Shape of the y :\", y.shape)\n",
        "print(\"Shape of the test data :\", x_test.shape)"
      ],
      "execution_count": null,
      "outputs": []
    },
    {
      "cell_type": "code",
      "metadata": {
        "id": "rkZ-EyWOl1w9"
      },
      "source": [
        "from sklearn.model_selection import train_test_split\n",
        "X_train, X_test, y_train, y_test = train_test_split(X, y, test_size = 0.3, random_state = 42)"
      ],
      "execution_count": null,
      "outputs": []
    },
    {
      "cell_type": "code",
      "metadata": {
        "id": "3RXFf3Sul1zr"
      },
      "source": [
        "# lets print the shapes again \n",
        "print(\"Shape of the X Train :\", X_train.shape)\n",
        "print(\"Shape of the y Train :\", y_train.shape)\n",
        "print(\"Shape of the X test :\", X_test.shape)\n",
        "print(\"Shape of the y test :\", y_test.shape)\n",
        "print(\"Shape of the test data :\", x_test.shape)"
      ],
      "execution_count": null,
      "outputs": []
    },
    {
      "cell_type": "code",
      "metadata": {
        "id": "0HiI4OAFl12Q"
      },
      "source": [
        "from sklearn.preprocessing import StandardScaler\n",
        "sc = StandardScaler()\n",
        "X_train = sc.fit_transform(X_train)\n",
        "X_test = sc.transform(X_test)\n",
        "x_test = sc.transform(x_test)"
      ],
      "execution_count": null,
      "outputs": []
    },
    {
      "cell_type": "code",
      "metadata": {
        "id": "YqVXO_wKmGwC"
      },
      "source": [
        "from sklearn.metrics import r2_score,mean_squared_error,mean_absolute_error\n",
        "from math import sqrt"
      ],
      "execution_count": null,
      "outputs": []
    },
    {
      "cell_type": "code",
      "metadata": {
        "id": "EYidaV5XmGyp"
      },
      "source": [
        "from sklearn.linear_model import LinearRegression\n",
        "lr = LinearRegression(n_jobs=10)\n",
        "lr.fit(X_train,y_train)\n",
        "\n",
        "y_test_pred_rfr = lr.predict(X_test)\n",
        "\n",
        "print(\"RMSE : \" , np.sqrt(mean_squared_error(y_test,y_test_pred_rfr)))"
      ],
      "execution_count": null,
      "outputs": []
    },
    {
      "cell_type": "code",
      "metadata": {
        "id": "sb6OCuJ1mG12"
      },
      "source": [
        "from sklearn.ensemble import RandomForestRegressor\n",
        "rfr = RandomForestRegressor(max_depth=8, min_samples_leaf=150)\n",
        "rfr.fit(X_train,y_train)\n",
        "\n",
        "y_pred_rfr = rfr.predict(X_test)\n",
        "\n",
        "print(\"Training Accuracy :\", rfr.score(X_train, y_train))\n",
        "print(\"Testing Accuracy :\", rfr.score(X_test, y_test))\n",
        "\n",
        "rms_rf = sqrt(mean_squared_error(y_test, y_pred_rfr))\n",
        "print(\"The Rmse value For RandomForest is \",rms_rf)"
      ],
      "execution_count": null,
      "outputs": []
    },
    {
      "cell_type": "code",
      "metadata": {
        "id": "SLQBH4U9mG4o"
      },
      "source": [
        "from sklearn.tree import DecisionTreeRegressor\n",
        "dt = DecisionTreeRegressor(max_depth=15, min_samples_leaf=100)\n",
        "dt.fit(X_train, y_train)\n",
        "\n",
        "y_pred_dt = dt.predict(X_test)\n",
        "\n",
        "print(\"Training Accuracy :\", dt.score(X_train, y_train))\n",
        "print(\"Testing Accuracy :\", dt.score(X_test, y_test))\n",
        "\n",
        "rms_dt = sqrt(mean_squared_error(y_test, y_pred_dt))\n",
        "print(\"The Rmse value For Decission Tree is \",rms_dt)"
      ],
      "execution_count": null,
      "outputs": []
    },
    {
      "cell_type": "code",
      "metadata": {
        "id": "00uG5vu5l15C"
      },
      "source": [
        ""
      ],
      "execution_count": null,
      "outputs": []
    },
    {
      "cell_type": "code",
      "metadata": {
        "id": "qPdo47RPl18W"
      },
      "source": [
        ""
      ],
      "execution_count": null,
      "outputs": []
    }
  ]
}